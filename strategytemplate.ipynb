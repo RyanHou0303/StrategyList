{
 "cells": [
  {
   "cell_type": "code",
   "id": "initial_id",
   "metadata": {
    "collapsed": true,
    "ExecuteTime": {
     "end_time": "2025-09-28T22:53:33.754321Z",
     "start_time": "2025-09-28T22:53:33.751692Z"
    }
   },
   "source": [
    "import numpy as np\n",
    "import pandas as pd\n",
    "import matplotlib.pyplot as plt\n",
    "plt.style.use(\"ggplot\")\n",
    "import yfinance as yf"
   ],
   "outputs": [],
   "execution_count": 53
  },
  {
   "metadata": {
    "ExecuteTime": {
     "end_time": "2025-09-28T22:53:34.279403Z",
     "start_time": "2025-09-28T22:53:34.232678Z"
    }
   },
   "cell_type": "code",
   "source": [
    "dates = pd.bdate_range(\"2022-01-01\",\"2025-01-01\")\n",
    "print(dates)\n",
    "length = len(dates)\n",
    "print(length)\n",
    "price = yf.download(\"AAPL\",start=dates[0],end=dates[-1])\n",
    "spy = yf.download(\"SPY\",start=dates[0],end=dates[-1])\n",
    "\n",
    "aapl = price[\"Close\"][\"AAPL\"].rename(\"aapl\")\n",
    "spy = spy[\"Close\"][\"SPY\"].rename(\"spy\")\n",
    "print(aapl)\n",
    "data = pd.concat([aapl,spy],axis = 1)\n",
    "print(data)\n",
    "\n",
    "lookback = 20\n",
    "data[\"momentum1\"] = data[\"aapl\"].pct_change(lookback)\n",
    "data[\"momentum2\"] = data[\"spy\"].pct_change(lookback)\n",
    "print(data)\n"
   ],
   "id": "7821de0ac082724f",
   "outputs": [
    {
     "name": "stderr",
     "output_type": "stream",
     "text": [
      "/var/folders/tt/2zmln3691579pyj9pfcgqgtm0000gn/T/ipykernel_31322/2413662933.py:5: FutureWarning: YF.download() has changed argument auto_adjust default to True\n",
      "  price = yf.download(\"AAPL\",start=dates[0],end=dates[-1])\n",
      "[*********************100%***********************]  1 of 1 completed\n",
      "/var/folders/tt/2zmln3691579pyj9pfcgqgtm0000gn/T/ipykernel_31322/2413662933.py:6: FutureWarning: YF.download() has changed argument auto_adjust default to True\n",
      "  spy = yf.download(\"SPY\",start=dates[0],end=dates[-1])\n",
      "[*********************100%***********************]  1 of 1 completed"
     ]
    },
    {
     "name": "stdout",
     "output_type": "stream",
     "text": [
      "DatetimeIndex(['2022-01-03', '2022-01-04', '2022-01-05', '2022-01-06',\n",
      "               '2022-01-07', '2022-01-10', '2022-01-11', '2022-01-12',\n",
      "               '2022-01-13', '2022-01-14',\n",
      "               ...\n",
      "               '2024-12-19', '2024-12-20', '2024-12-23', '2024-12-24',\n",
      "               '2024-12-25', '2024-12-26', '2024-12-27', '2024-12-30',\n",
      "               '2024-12-31', '2025-01-01'],\n",
      "              dtype='datetime64[ns]', length=783, freq='B')\n",
      "783\n",
      "Date\n",
      "2022-01-03    178.443130\n",
      "2022-01-04    176.178421\n",
      "2022-01-05    171.492081\n",
      "2022-01-06    168.629318\n",
      "2022-01-07    168.796005\n",
      "                 ...    \n",
      "2024-12-24    257.286682\n",
      "2024-12-26    258.103729\n",
      "2024-12-27    254.685883\n",
      "2024-12-30    251.307877\n",
      "2024-12-31    249.534180\n",
      "Name: aapl, Length: 753, dtype: float64\n",
      "                  aapl         spy\n",
      "Date                              \n",
      "2022-01-03  178.443130  453.210358\n",
      "2022-01-04  176.178421  453.058624\n",
      "2022-01-05  171.492081  444.358917\n",
      "2022-01-06  168.629318  443.941498\n",
      "2022-01-07  168.796005  442.186310\n",
      "...                ...         ...\n",
      "2024-12-24  257.286682  596.076904\n",
      "2024-12-26  258.103729  596.116699\n",
      "2024-12-27  254.685883  589.841614\n",
      "2024-12-30  251.307877  583.110535\n",
      "2024-12-31  249.534180  580.989136\n",
      "\n",
      "[753 rows x 2 columns]\n",
      "                  aapl         spy  momentum1  momentum2\n",
      "Date                                                    \n",
      "2022-01-03  178.443130  453.210358        NaN        NaN\n",
      "2022-01-04  176.178421  453.058624        NaN        NaN\n",
      "2022-01-05  171.492081  444.358917        NaN        NaN\n",
      "2022-01-06  168.629318  443.941498        NaN        NaN\n",
      "2022-01-07  168.796005  442.186310        NaN        NaN\n",
      "...                ...         ...        ...        ...\n",
      "2024-12-24  257.286682  596.076904   0.108773   0.009696\n",
      "2024-12-26  258.103729  596.116699   0.101931   0.004518\n",
      "2024-12-27  254.685883  589.841614   0.087941  -0.003035\n",
      "2024-12-30  251.307877  583.110535   0.062655  -0.020497\n",
      "2024-12-31  249.534180  580.989136   0.045202  -0.025806\n",
      "\n",
      "[753 rows x 4 columns]\n"
     ]
    },
    {
     "name": "stderr",
     "output_type": "stream",
     "text": [
      "\n"
     ]
    }
   ],
   "execution_count": 54
  },
  {
   "metadata": {
    "ExecuteTime": {
     "end_time": "2025-09-28T22:53:35.034064Z",
     "start_time": "2025-09-28T22:53:35.030996Z"
    }
   },
   "cell_type": "code",
   "source": "",
   "id": "3ecc5bf5ad8852a5",
   "outputs": [],
   "execution_count": null
  },
  {
   "metadata": {},
   "cell_type": "markdown",
   "source": "",
   "id": "deba77a01c25a0db"
  },
  {
   "metadata": {
    "ExecuteTime": {
     "end_time": "2025-09-28T22:53:56.920606Z",
     "start_time": "2025-09-28T22:53:56.914921Z"
    }
   },
   "cell_type": "code",
   "source": [
    "data[\"position\"]=np.where((data[\"momentum1\"]>0.05)&(data[\"momentum2\"]>0.03),1,0)\n",
    "data[[\"position\"]]"
   ],
   "id": "9f5cfa7d9a07488b",
   "outputs": [
    {
     "data": {
      "text/plain": [
       "            position\n",
       "Date                \n",
       "2022-01-03         0\n",
       "2022-01-04         0\n",
       "2022-01-05         0\n",
       "2022-01-06         0\n",
       "2022-01-07         0\n",
       "...              ...\n",
       "2024-12-24         0\n",
       "2024-12-26         0\n",
       "2024-12-27         0\n",
       "2024-12-30         0\n",
       "2024-12-31         0\n",
       "\n",
       "[753 rows x 1 columns]"
      ],
      "text/html": [
       "<div>\n",
       "<style scoped>\n",
       "    .dataframe tbody tr th:only-of-type {\n",
       "        vertical-align: middle;\n",
       "    }\n",
       "\n",
       "    .dataframe tbody tr th {\n",
       "        vertical-align: top;\n",
       "    }\n",
       "\n",
       "    .dataframe thead th {\n",
       "        text-align: right;\n",
       "    }\n",
       "</style>\n",
       "<table border=\"1\" class=\"dataframe\">\n",
       "  <thead>\n",
       "    <tr style=\"text-align: right;\">\n",
       "      <th></th>\n",
       "      <th>position</th>\n",
       "    </tr>\n",
       "    <tr>\n",
       "      <th>Date</th>\n",
       "      <th></th>\n",
       "    </tr>\n",
       "  </thead>\n",
       "  <tbody>\n",
       "    <tr>\n",
       "      <th>2022-01-03</th>\n",
       "      <td>0</td>\n",
       "    </tr>\n",
       "    <tr>\n",
       "      <th>2022-01-04</th>\n",
       "      <td>0</td>\n",
       "    </tr>\n",
       "    <tr>\n",
       "      <th>2022-01-05</th>\n",
       "      <td>0</td>\n",
       "    </tr>\n",
       "    <tr>\n",
       "      <th>2022-01-06</th>\n",
       "      <td>0</td>\n",
       "    </tr>\n",
       "    <tr>\n",
       "      <th>2022-01-07</th>\n",
       "      <td>0</td>\n",
       "    </tr>\n",
       "    <tr>\n",
       "      <th>...</th>\n",
       "      <td>...</td>\n",
       "    </tr>\n",
       "    <tr>\n",
       "      <th>2024-12-24</th>\n",
       "      <td>0</td>\n",
       "    </tr>\n",
       "    <tr>\n",
       "      <th>2024-12-26</th>\n",
       "      <td>0</td>\n",
       "    </tr>\n",
       "    <tr>\n",
       "      <th>2024-12-27</th>\n",
       "      <td>0</td>\n",
       "    </tr>\n",
       "    <tr>\n",
       "      <th>2024-12-30</th>\n",
       "      <td>0</td>\n",
       "    </tr>\n",
       "    <tr>\n",
       "      <th>2024-12-31</th>\n",
       "      <td>0</td>\n",
       "    </tr>\n",
       "  </tbody>\n",
       "</table>\n",
       "<p>753 rows × 1 columns</p>\n",
       "</div>"
      ]
     },
     "execution_count": 59,
     "metadata": {},
     "output_type": "execute_result"
    }
   ],
   "execution_count": 59
  },
  {
   "metadata": {
    "ExecuteTime": {
     "end_time": "2025-09-28T22:53:57.056845Z",
     "start_time": "2025-09-28T22:53:57.052513Z"
    }
   },
   "cell_type": "code",
   "source": [
    "data[\"return\"]=data[\"aapl\"].pct_change()\n",
    "data[\"strategy\"] = data[\"position\"].shift(1)*data[\"return\"]\n",
    "print(data)"
   ],
   "id": "67485bff0cdbd328",
   "outputs": [
    {
     "name": "stdout",
     "output_type": "stream",
     "text": [
      "                  aapl         spy  momentum1  momentum2  position    return  \\\n",
      "Date                                                                           \n",
      "2022-01-03  178.443130  453.210358        NaN        NaN         0       NaN   \n",
      "2022-01-04  176.178421  453.058624        NaN        NaN         0 -0.012691   \n",
      "2022-01-05  171.492081  444.358917        NaN        NaN         0 -0.026600   \n",
      "2022-01-06  168.629318  443.941498        NaN        NaN         0 -0.016693   \n",
      "2022-01-07  168.796005  442.186310        NaN        NaN         0  0.000988   \n",
      "...                ...         ...        ...        ...       ...       ...   \n",
      "2024-12-24  257.286682  596.076904   0.108773   0.009696         0  0.011478   \n",
      "2024-12-26  258.103729  596.116699   0.101931   0.004518         0  0.003176   \n",
      "2024-12-27  254.685883  589.841614   0.087941  -0.003035         0 -0.013242   \n",
      "2024-12-30  251.307877  583.110535   0.062655  -0.020497         0 -0.013263   \n",
      "2024-12-31  249.534180  580.989136   0.045202  -0.025806         0 -0.007058   \n",
      "\n",
      "            strategy  \n",
      "Date                  \n",
      "2022-01-03       NaN  \n",
      "2022-01-04      -0.0  \n",
      "2022-01-05      -0.0  \n",
      "2022-01-06      -0.0  \n",
      "2022-01-07       0.0  \n",
      "...              ...  \n",
      "2024-12-24       0.0  \n",
      "2024-12-26       0.0  \n",
      "2024-12-27      -0.0  \n",
      "2024-12-30      -0.0  \n",
      "2024-12-31      -0.0  \n",
      "\n",
      "[753 rows x 7 columns]\n"
     ]
    }
   ],
   "execution_count": 60
  },
  {
   "metadata": {
    "ExecuteTime": {
     "end_time": "2025-09-28T22:53:57.325246Z",
     "start_time": "2025-09-28T22:53:57.255974Z"
    }
   },
   "cell_type": "code",
   "source": [
    "cum = (1+data[\"strategy\"]).cumprod()\n",
    "cum.plot(title=\"strategy equity curve\",figsize=(10,5))\n",
    "plt.show()"
   ],
   "id": "d2ea0f15ddd21b64",
   "outputs": [
    {
     "data": {
      "text/plain": [
       "<Figure size 1000x500 with 1 Axes>"
      ],
      "image/png": "[encoded data removed]"
     },
     "metadata": {},
     "output_type": "display_data",
     "jetTransient": {
      "display_id": null
     }
    }
   ],
   "execution_count": 61
  },
  {
   "metadata": {
    "ExecuteTime": {
     "end_time": "2025-09-28T22:54:00.369464Z",
     "start_time": "2025-09-28T22:54:00.364771Z"
    }
   },
   "cell_type": "code",
   "source": [
    "sharpe = data[\"strategy\"].mean()/data[\"strategy\"].std()*np.sqrt(252)\n",
    "print(sharpe)"
   ],
   "id": "3049badbcac65e6e",
   "outputs": [
    {
     "name": "stdout",
     "output_type": "stream",
     "text": [
      "0.8768159380954713\n"
     ]
    }
   ],
   "execution_count": 62
  },
  {
   "metadata": {
    "ExecuteTime": {
     "end_time": "2025-09-28T22:54:02.469741Z",
     "start_time": "2025-09-28T22:54:02.464353Z"
    }
   },
   "cell_type": "code",
   "source": [
    "max_dd = (cum/cum.cummax()-1).min()\n",
    "print(max_dd)"
   ],
   "id": "148a33268118dd92",
   "outputs": [
    {
     "name": "stdout",
     "output_type": "stream",
     "text": [
      "-0.13542279728912276\n"
     ]
    }
   ],
   "execution_count": 63
  },
  {
   "metadata": {
    "ExecuteTime": {
     "end_time": "2025-09-28T22:52:52.508439Z",
     "start_time": "2025-09-28T22:52:52.506788Z"
    }
   },
   "cell_type": "code",
   "source": "",
   "id": "af813af195c49d13",
   "outputs": [],
   "execution_count": null
  },
  {
   "metadata": {},
   "cell_type": "code",
   "outputs": [],
   "execution_count": null,
   "source": "",
   "id": "105dd1aef3150973"
  }
 ],
 "metadata": {
  "kernelspec": {
   "display_name": "Python 3",
   "language": "python",
   "name": "python3"
  },
  "language_info": {
   "codemirror_mode": {
    "name": "ipython",
    "version": 2
   },
   "file_extension": ".py",
   "mimetype": "text/x-python",
   "name": "python",
   "nbconvert_exporter": "python",
   "pygments_lexer": "ipython2",
   "version": "2.7.6"
  }
 },
 "nbformat": 4,
 "nbformat_minor": 5
}
